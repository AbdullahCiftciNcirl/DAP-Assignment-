{
 "cells": [
  {
   "cell_type": "code",
   "execution_count": 1,
   "id": "56837632",
   "metadata": {},
   "outputs": [],
   "source": [
    "### importing necessary libraries for data retrieval\n",
    "import pandas_datareader.data as web\n",
    "import datetime\n",
    "import pandas as pd\n",
    "import json\n",
    "import pymongo\n",
    "start=datetime.datetime(2018,1,1)## to determine date range parameters\n",
    "end=datetime.datetime(2022,4,13)\n",
    "from datetime import datetime##to work with time index\n",
    "from pymongo import MongoClient## importing pymongo to be able to work with MongoDB"
   ]
  },
  {
   "cell_type": "code",
   "execution_count": 2,
   "id": "dbaa00ae",
   "metadata": {},
   "outputs": [],
   "source": [
    "tesco_read=web.DataReader('TSCO', 'yahoo',start,end)## reading the data using DataReader package from Pandas which uses yahoo api"
   ]
  },
  {
   "cell_type": "code",
   "execution_count": 3,
   "id": "f2c1a406",
   "metadata": {},
   "outputs": [],
   "source": [
    "path_1=\"C:\\\\Users\\\\cifci\\\\Downloads\\\\Downloads 14 01 2020\\\\Data\\\\tesco_V2.csv\"\n",
    "tesco_read.to_csv(path_1)### save as csv"
   ]
  },
  {
   "cell_type": "code",
   "execution_count": 4,
   "id": "213179d3",
   "metadata": {},
   "outputs": [],
   "source": [
    "tesco_stock=pd.read_csv(path_1) ### read from csv"
   ]
  },
  {
   "cell_type": "code",
   "execution_count": 5,
   "id": "e8b9bd42",
   "metadata": {},
   "outputs": [],
   "source": [
    "client = MongoClient(\"mongodb://localhost:27017\") ## creating a connection to MongoDB and naming as client"
   ]
  },
  {
   "cell_type": "code",
   "execution_count": 6,
   "id": "5036b322",
   "metadata": {},
   "outputs": [],
   "source": [
    "datb=client[\"Stocks_V5\"]##defining a database with the name Stocks"
   ]
  },
  {
   "cell_type": "code",
   "execution_count": 7,
   "id": "4368be43",
   "metadata": {},
   "outputs": [],
   "source": [
    "tsco_dict=tesco_stock.to_dict(orient=\"records\")## converting to dictionary"
   ]
  },
  {
   "cell_type": "code",
   "execution_count": 8,
   "id": "924cbfb4",
   "metadata": {},
   "outputs": [
    {
     "data": {
      "text/plain": [
       "<pymongo.results.InsertManyResult at 0x1c0324fe640>"
      ]
     },
     "execution_count": 8,
     "metadata": {},
     "output_type": "execute_result"
    }
   ],
   "source": [
    "datb.tsco.insert_many(tsco_dict)### creating a collection in the database with the name tsco"
   ]
  },
  {
   "cell_type": "code",
   "execution_count": 9,
   "id": "853d8bdb",
   "metadata": {},
   "outputs": [],
   "source": [
    "my_collection=datb.tsco## assigning collection to a variable"
   ]
  },
  {
   "cell_type": "code",
   "execution_count": 10,
   "id": "ae113db7",
   "metadata": {},
   "outputs": [],
   "source": [
    "df_tesco=pd.DataFrame(list(my_collection.find()))##converting to a pandas dataframe"
   ]
  },
  {
   "cell_type": "code",
   "execution_count": 11,
   "id": "e851f796",
   "metadata": {},
   "outputs": [
    {
     "data": {
      "text/html": [
       "<div>\n",
       "<style scoped>\n",
       "    .dataframe tbody tr th:only-of-type {\n",
       "        vertical-align: middle;\n",
       "    }\n",
       "\n",
       "    .dataframe tbody tr th {\n",
       "        vertical-align: top;\n",
       "    }\n",
       "\n",
       "    .dataframe thead th {\n",
       "        text-align: right;\n",
       "    }\n",
       "</style>\n",
       "<table border=\"1\" class=\"dataframe\">\n",
       "  <thead>\n",
       "    <tr style=\"text-align: right;\">\n",
       "      <th></th>\n",
       "      <th>_id</th>\n",
       "      <th>Date</th>\n",
       "      <th>High</th>\n",
       "      <th>Low</th>\n",
       "      <th>Open</th>\n",
       "      <th>Close</th>\n",
       "      <th>Volume</th>\n",
       "      <th>Adj Close</th>\n",
       "    </tr>\n",
       "  </thead>\n",
       "  <tbody>\n",
       "    <tr>\n",
       "      <th>0</th>\n",
       "      <td>6266ea8d66f646219f1f32ae</td>\n",
       "      <td>2018-01-02</td>\n",
       "      <td>76.730003</td>\n",
       "      <td>75.010002</td>\n",
       "      <td>75.349998</td>\n",
       "      <td>75.680000</td>\n",
       "      <td>1590000.0</td>\n",
       "      <td>71.520538</td>\n",
       "    </tr>\n",
       "    <tr>\n",
       "      <th>1</th>\n",
       "      <td>6266ea8d66f646219f1f32af</td>\n",
       "      <td>2018-01-03</td>\n",
       "      <td>76.360001</td>\n",
       "      <td>75.440002</td>\n",
       "      <td>75.839996</td>\n",
       "      <td>76.250000</td>\n",
       "      <td>786100.0</td>\n",
       "      <td>72.059212</td>\n",
       "    </tr>\n",
       "    <tr>\n",
       "      <th>2</th>\n",
       "      <td>6266ea8d66f646219f1f32b0</td>\n",
       "      <td>2018-01-04</td>\n",
       "      <td>77.720001</td>\n",
       "      <td>76.089996</td>\n",
       "      <td>76.510002</td>\n",
       "      <td>77.620003</td>\n",
       "      <td>1225700.0</td>\n",
       "      <td>73.353928</td>\n",
       "    </tr>\n",
       "    <tr>\n",
       "      <th>3</th>\n",
       "      <td>6266ea8d66f646219f1f32b1</td>\n",
       "      <td>2018-01-05</td>\n",
       "      <td>79.529999</td>\n",
       "      <td>77.690002</td>\n",
       "      <td>77.889999</td>\n",
       "      <td>79.440002</td>\n",
       "      <td>2160100.0</td>\n",
       "      <td>75.073883</td>\n",
       "    </tr>\n",
       "    <tr>\n",
       "      <th>4</th>\n",
       "      <td>6266ea8d66f646219f1f32b2</td>\n",
       "      <td>2018-01-08</td>\n",
       "      <td>79.720001</td>\n",
       "      <td>78.709999</td>\n",
       "      <td>79.169998</td>\n",
       "      <td>79.250000</td>\n",
       "      <td>1409700.0</td>\n",
       "      <td>74.894348</td>\n",
       "    </tr>\n",
       "  </tbody>\n",
       "</table>\n",
       "</div>"
      ],
      "text/plain": [
       "                        _id        Date       High        Low       Open  \\\n",
       "0  6266ea8d66f646219f1f32ae  2018-01-02  76.730003  75.010002  75.349998   \n",
       "1  6266ea8d66f646219f1f32af  2018-01-03  76.360001  75.440002  75.839996   \n",
       "2  6266ea8d66f646219f1f32b0  2018-01-04  77.720001  76.089996  76.510002   \n",
       "3  6266ea8d66f646219f1f32b1  2018-01-05  79.529999  77.690002  77.889999   \n",
       "4  6266ea8d66f646219f1f32b2  2018-01-08  79.720001  78.709999  79.169998   \n",
       "\n",
       "       Close     Volume  Adj Close  \n",
       "0  75.680000  1590000.0  71.520538  \n",
       "1  76.250000   786100.0  72.059212  \n",
       "2  77.620003  1225700.0  73.353928  \n",
       "3  79.440002  2160100.0  75.073883  \n",
       "4  79.250000  1409700.0  74.894348  "
      ]
     },
     "execution_count": 11,
     "metadata": {},
     "output_type": "execute_result"
    }
   ],
   "source": [
    "\n",
    "df_tesco.head()### checking the appearence of dataframe"
   ]
  },
  {
   "cell_type": "code",
   "execution_count": 12,
   "id": "5148d68c",
   "metadata": {},
   "outputs": [],
   "source": [
    "df_tesco.set_index(keys='Date', inplace=True)"
   ]
  },
  {
   "cell_type": "code",
   "execution_count": 13,
   "id": "aab6131c",
   "metadata": {},
   "outputs": [
    {
     "data": {
      "text/plain": [
       "<AxesSubplot:title={'center':'Stock Price (2018-2022)'}, xlabel='Date'>"
      ]
     },
     "execution_count": 13,
     "metadata": {},
     "output_type": "execute_result"
    },
    {
     "data": {
      "image/png": "[encoded data removed]",
      "text/plain": [
       "<Figure size 864x432 with 1 Axes>"
      ]
     },
     "metadata": {
      "needs_background": "light"
     },
     "output_type": "display_data"
    }
   ],
   "source": [
    "df_tesco['Close'].plot(figsize=(12,6), title='Stock Price (2018-2022)', kind='line')"
   ]
  },
  {
   "cell_type": "code",
   "execution_count": null,
   "id": "18d850e5",
   "metadata": {},
   "outputs": [],
   "source": []
  },
  {
   "cell_type": "markdown",
   "id": "f6e8c5b1",
   "metadata": {},
   "source": [
    "   Data Cleaning"
   ]
  },
  {
   "cell_type": "code",
   "execution_count": 14,
   "id": "6d7c12f8",
   "metadata": {},
   "outputs": [],
   "source": [
    "df_tesco=df_tesco.drop(labels=['Adj Close', 'Open', '_id', 'Low', 'High'], axis=1)##5 columns have been dropped"
   ]
  },
  {
   "cell_type": "code",
   "execution_count": 15,
   "id": "d5711fb5",
   "metadata": {},
   "outputs": [
    {
     "data": {
      "text/html": [
       "<div>\n",
       "<style scoped>\n",
       "    .dataframe tbody tr th:only-of-type {\n",
       "        vertical-align: middle;\n",
       "    }\n",
       "\n",
       "    .dataframe tbody tr th {\n",
       "        vertical-align: top;\n",
       "    }\n",
       "\n",
       "    .dataframe thead th {\n",
       "        text-align: right;\n",
       "    }\n",
       "</style>\n",
       "<table border=\"1\" class=\"dataframe\">\n",
       "  <thead>\n",
       "    <tr style=\"text-align: right;\">\n",
       "      <th></th>\n",
       "      <th>Close</th>\n",
       "      <th>Volume</th>\n",
       "    </tr>\n",
       "    <tr>\n",
       "      <th>Date</th>\n",
       "      <th></th>\n",
       "      <th></th>\n",
       "    </tr>\n",
       "  </thead>\n",
       "  <tbody>\n",
       "    <tr>\n",
       "      <th>2018-01-02</th>\n",
       "      <td>75.680000</td>\n",
       "      <td>1590000.0</td>\n",
       "    </tr>\n",
       "    <tr>\n",
       "      <th>2018-01-03</th>\n",
       "      <td>76.250000</td>\n",
       "      <td>786100.0</td>\n",
       "    </tr>\n",
       "    <tr>\n",
       "      <th>2018-01-04</th>\n",
       "      <td>77.620003</td>\n",
       "      <td>1225700.0</td>\n",
       "    </tr>\n",
       "    <tr>\n",
       "      <th>2018-01-05</th>\n",
       "      <td>79.440002</td>\n",
       "      <td>2160100.0</td>\n",
       "    </tr>\n",
       "    <tr>\n",
       "      <th>2018-01-08</th>\n",
       "      <td>79.250000</td>\n",
       "      <td>1409700.0</td>\n",
       "    </tr>\n",
       "  </tbody>\n",
       "</table>\n",
       "</div>"
      ],
      "text/plain": [
       "                Close     Volume\n",
       "Date                            \n",
       "2018-01-02  75.680000  1590000.0\n",
       "2018-01-03  76.250000   786100.0\n",
       "2018-01-04  77.620003  1225700.0\n",
       "2018-01-05  79.440002  2160100.0\n",
       "2018-01-08  79.250000  1409700.0"
      ]
     },
     "execution_count": 15,
     "metadata": {},
     "output_type": "execute_result"
    }
   ],
   "source": [
    "df_tesco.head()"
   ]
  },
  {
   "cell_type": "code",
   "execution_count": 16,
   "id": "1419fc8c",
   "metadata": {},
   "outputs": [],
   "source": [
    "df_tesco['Return']=df_tesco['Close'].pct_change()## a new column has been added to show daily returns"
   ]
  },
  {
   "cell_type": "code",
   "execution_count": 17,
   "id": "44d32f88",
   "metadata": {},
   "outputs": [
    {
     "data": {
      "text/html": [
       "<div>\n",
       "<style scoped>\n",
       "    .dataframe tbody tr th:only-of-type {\n",
       "        vertical-align: middle;\n",
       "    }\n",
       "\n",
       "    .dataframe tbody tr th {\n",
       "        vertical-align: top;\n",
       "    }\n",
       "\n",
       "    .dataframe thead th {\n",
       "        text-align: right;\n",
       "    }\n",
       "</style>\n",
       "<table border=\"1\" class=\"dataframe\">\n",
       "  <thead>\n",
       "    <tr style=\"text-align: right;\">\n",
       "      <th></th>\n",
       "      <th>Close</th>\n",
       "      <th>Volume</th>\n",
       "      <th>Return</th>\n",
       "    </tr>\n",
       "    <tr>\n",
       "      <th>Date</th>\n",
       "      <th></th>\n",
       "      <th></th>\n",
       "      <th></th>\n",
       "    </tr>\n",
       "  </thead>\n",
       "  <tbody>\n",
       "    <tr>\n",
       "      <th>2018-01-02</th>\n",
       "      <td>75.680000</td>\n",
       "      <td>1590000.0</td>\n",
       "      <td>NaN</td>\n",
       "    </tr>\n",
       "    <tr>\n",
       "      <th>2018-01-03</th>\n",
       "      <td>76.250000</td>\n",
       "      <td>786100.0</td>\n",
       "      <td>0.007532</td>\n",
       "    </tr>\n",
       "    <tr>\n",
       "      <th>2018-01-04</th>\n",
       "      <td>77.620003</td>\n",
       "      <td>1225700.0</td>\n",
       "      <td>0.017967</td>\n",
       "    </tr>\n",
       "    <tr>\n",
       "      <th>2018-01-05</th>\n",
       "      <td>79.440002</td>\n",
       "      <td>2160100.0</td>\n",
       "      <td>0.023448</td>\n",
       "    </tr>\n",
       "    <tr>\n",
       "      <th>2018-01-08</th>\n",
       "      <td>79.250000</td>\n",
       "      <td>1409700.0</td>\n",
       "      <td>-0.002392</td>\n",
       "    </tr>\n",
       "  </tbody>\n",
       "</table>\n",
       "</div>"
      ],
      "text/plain": [
       "                Close     Volume    Return\n",
       "Date                                      \n",
       "2018-01-02  75.680000  1590000.0       NaN\n",
       "2018-01-03  76.250000   786100.0  0.007532\n",
       "2018-01-04  77.620003  1225700.0  0.017967\n",
       "2018-01-05  79.440002  2160100.0  0.023448\n",
       "2018-01-08  79.250000  1409700.0 -0.002392"
      ]
     },
     "execution_count": 17,
     "metadata": {},
     "output_type": "execute_result"
    }
   ],
   "source": [
    "df_tesco.head()"
   ]
  },
  {
   "cell_type": "code",
   "execution_count": 18,
   "id": "cdeaf4a7",
   "metadata": {},
   "outputs": [],
   "source": [
    "df_tesco = df_tesco.iloc[1: , :]##first row is excluded from the dataset"
   ]
  },
  {
   "cell_type": "code",
   "execution_count": 19,
   "id": "c8e8d8fe",
   "metadata": {},
   "outputs": [
    {
     "data": {
      "text/html": [
       "<div>\n",
       "<style scoped>\n",
       "    .dataframe tbody tr th:only-of-type {\n",
       "        vertical-align: middle;\n",
       "    }\n",
       "\n",
       "    .dataframe tbody tr th {\n",
       "        vertical-align: top;\n",
       "    }\n",
       "\n",
       "    .dataframe thead th {\n",
       "        text-align: right;\n",
       "    }\n",
       "</style>\n",
       "<table border=\"1\" class=\"dataframe\">\n",
       "  <thead>\n",
       "    <tr style=\"text-align: right;\">\n",
       "      <th></th>\n",
       "      <th>Close</th>\n",
       "      <th>Volume</th>\n",
       "      <th>Return</th>\n",
       "    </tr>\n",
       "    <tr>\n",
       "      <th>Date</th>\n",
       "      <th></th>\n",
       "      <th></th>\n",
       "      <th></th>\n",
       "    </tr>\n",
       "  </thead>\n",
       "  <tbody>\n",
       "    <tr>\n",
       "      <th>2018-01-03</th>\n",
       "      <td>76.250000</td>\n",
       "      <td>786100.0</td>\n",
       "      <td>0.007532</td>\n",
       "    </tr>\n",
       "    <tr>\n",
       "      <th>2018-01-04</th>\n",
       "      <td>77.620003</td>\n",
       "      <td>1225700.0</td>\n",
       "      <td>0.017967</td>\n",
       "    </tr>\n",
       "    <tr>\n",
       "      <th>2018-01-05</th>\n",
       "      <td>79.440002</td>\n",
       "      <td>2160100.0</td>\n",
       "      <td>0.023448</td>\n",
       "    </tr>\n",
       "    <tr>\n",
       "      <th>2018-01-08</th>\n",
       "      <td>79.250000</td>\n",
       "      <td>1409700.0</td>\n",
       "      <td>-0.002392</td>\n",
       "    </tr>\n",
       "    <tr>\n",
       "      <th>2018-01-09</th>\n",
       "      <td>79.489998</td>\n",
       "      <td>1116600.0</td>\n",
       "      <td>0.003028</td>\n",
       "    </tr>\n",
       "    <tr>\n",
       "      <th>...</th>\n",
       "      <td>...</td>\n",
       "      <td>...</td>\n",
       "      <td>...</td>\n",
       "    </tr>\n",
       "    <tr>\n",
       "      <th>2022-04-07</th>\n",
       "      <td>230.979996</td>\n",
       "      <td>1289300.0</td>\n",
       "      <td>0.026943</td>\n",
       "    </tr>\n",
       "    <tr>\n",
       "      <th>2022-04-08</th>\n",
       "      <td>236.380005</td>\n",
       "      <td>851500.0</td>\n",
       "      <td>0.023379</td>\n",
       "    </tr>\n",
       "    <tr>\n",
       "      <th>2022-04-11</th>\n",
       "      <td>235.110001</td>\n",
       "      <td>756300.0</td>\n",
       "      <td>-0.005373</td>\n",
       "    </tr>\n",
       "    <tr>\n",
       "      <th>2022-04-12</th>\n",
       "      <td>236.690002</td>\n",
       "      <td>817400.0</td>\n",
       "      <td>0.006720</td>\n",
       "    </tr>\n",
       "    <tr>\n",
       "      <th>2022-04-13</th>\n",
       "      <td>237.380005</td>\n",
       "      <td>773300.0</td>\n",
       "      <td>0.002915</td>\n",
       "    </tr>\n",
       "  </tbody>\n",
       "</table>\n",
       "<p>1078 rows × 3 columns</p>\n",
       "</div>"
      ],
      "text/plain": [
       "                 Close     Volume    Return\n",
       "Date                                       \n",
       "2018-01-03   76.250000   786100.0  0.007532\n",
       "2018-01-04   77.620003  1225700.0  0.017967\n",
       "2018-01-05   79.440002  2160100.0  0.023448\n",
       "2018-01-08   79.250000  1409700.0 -0.002392\n",
       "2018-01-09   79.489998  1116600.0  0.003028\n",
       "...                ...        ...       ...\n",
       "2022-04-07  230.979996  1289300.0  0.026943\n",
       "2022-04-08  236.380005   851500.0  0.023379\n",
       "2022-04-11  235.110001   756300.0 -0.005373\n",
       "2022-04-12  236.690002   817400.0  0.006720\n",
       "2022-04-13  237.380005   773300.0  0.002915\n",
       "\n",
       "[1078 rows x 3 columns]"
      ]
     },
     "execution_count": 19,
     "metadata": {},
     "output_type": "execute_result"
    }
   ],
   "source": [
    "df_tesco"
   ]
  },
  {
   "cell_type": "code",
   "execution_count": 20,
   "id": "e3a0ca47",
   "metadata": {},
   "outputs": [
    {
     "data": {
      "text/plain": [
       "<AxesSubplot:xlabel='Date'>"
      ]
     },
     "execution_count": 20,
     "metadata": {},
     "output_type": "execute_result"
    },
    {
     "data": {
      "image/png": "[encoded data removed]",
      "text/plain": [
       "<Figure size 432x288 with 1 Axes>"
      ]
     },
     "metadata": {
      "needs_background": "light"
     },
     "output_type": "display_data"
    }
   ],
   "source": [
    "df_tesco['Return']['2022-04-04':'2022-13-04'].plot(kind='bar')"
   ]
  },
  {
   "cell_type": "code",
   "execution_count": 26,
   "id": "0f086605",
   "metadata": {},
   "outputs": [],
   "source": [
    "path_2=\"C:\\\\Users\\\\cifci\\\\Downloads\\\\Downloads 14 01 2020\\\\Data\\\\tesco_for_sql.csv\"\n",
    "df_tesco.to_csv(path_2)"
   ]
  },
  {
   "cell_type": "code",
   "execution_count": 27,
   "id": "754f5f8d",
   "metadata": {},
   "outputs": [],
   "source": [
    "import psycopg2### Using psycop2 connecting my local databsase\n",
    "try:\n",
    "    dbConnection = psycopg2.connect(\n",
    "        user = \"postgres\",\n",
    "        password = \"sacq6/Ue\",\n",
    "        host = \"127.0.0.1\",\n",
    "        port = \"5432\",\n",
    "        database = \"postgres\")\n",
    "    dbConnection.set_isolation_level(0) #\n",
    "    dbCursor = dbConnection.cursor()\n",
    "    dbCursor.execute('CREATE DATABASE stock_data_v5;')\n",
    "    dbCursor.close()\n",
    "except (Exception , psycopg2.Error) as dbError :\n",
    "    print (\"Error while connecting to PostgreSQL\", dbError)\n",
    "finally:\n",
    "    if \"dbConnection\" in locals(): \n",
    "        dbConnection.close()"
   ]
  },
  {
   "cell_type": "code",
   "execution_count": 28,
   "id": "297eb002",
   "metadata": {},
   "outputs": [],
   "source": [
    "table_create_string = \"\"\"\n",
    "CREATE TABLE IF NOT EXISTS tesco_stock(\n",
    "   date_time timestamp,\n",
    "   Close numeric(6,3),\n",
    "   Volume float,\n",
    "   Return float\n",
    ");\n",
    "\"\"\"\n",
    "\n",
    "try:\n",
    "    dbConnection = psycopg2.connect(\n",
    "        user = \"postgres\",\n",
    "        password = \"sacq6/Ue\",\n",
    "        host = \"127.0.0.1\",\n",
    "        port = \"5432\",\n",
    "        database = \"stock_data_v5\"\n",
    "    )\n",
    "    dbConnection.set_isolation_level(0) \n",
    "    dbCursor = dbConnection.cursor()\n",
    "    dbCursor.execute(table_create_string)\n",
    "    dbCursor.close()\n",
    "except (Exception , psycopg2.Error) as dbError :\n",
    "    print (\"Error while connecting to PostgreSQL\", dbError)\n",
    "finally:\n",
    "    if \"dbConnection\" in locals(): \n",
    "        dbConnection.close()"
   ]
  },
  {
   "cell_type": "code",
   "execution_count": 29,
   "id": "8d21b10c",
   "metadata": {},
   "outputs": [],
   "source": [
    "import csv\n",
    "\n",
    "try:\n",
    "    dbConnection = psycopg2.connect(\n",
    "        user = \"postgres\",\n",
    "        password = \"sacq6/Ue\",\n",
    "        host = \"127.0.0.1\",\n",
    "        port = \"5432\",\n",
    "        database = \"stock_data_v5\"\n",
    "    )\n",
    "    dbConnection.set_isolation_level(0) # AUTOCOMMIT\n",
    "    dbCursor = dbConnection.cursor()\n",
    "    insertString = \"INSERT INTO tesco_stock (date_time, Close, Volume, Return) VALUES (%s, %s, %s, %s)\"\n",
    "    with open('C:\\\\Users\\\\cifci\\\\Downloads\\\\Downloads 14 01 2020\\\\Data\\\\tesco_for_sql.csv', 'r') as f:\n",
    "        reader = csv.reader(f)\n",
    "        next(reader) # skip the header\n",
    "        for row in reader:\n",
    "            dbCursor.execute(insertString, row)\n",
    "    dbConnection.commit()\n",
    "    dbCursor.close()\n",
    "except (Exception , psycopg2.Error) as dbError :\n",
    "    print (\"Error:\", dbError)\n",
    "finally:\n",
    "    if \"dbConnection\" in locals(): \n",
    "        dbConnection.close()"
   ]
  },
  {
   "cell_type": "code",
   "execution_count": 30,
   "id": "e7adfb58",
   "metadata": {},
   "outputs": [],
   "source": [
    "import pandas as pd\n",
    "import pandas.io.sql as sqlio\n",
    "import seaborn as sns\n",
    "import matplotlib.pyplot as plt\n",
    "\n",
    "sql = \"\"\"\n",
    "SELECT\n",
    "  date_time,\n",
    "  Close,\n",
    "  Volume,\n",
    "  Return\n",
    "FROM\n",
    "  tesco_stock\"\"\"\n",
    "\n",
    "try:\n",
    "    dbConnection = psycopg2.connect(\n",
    "        user = \"postgres\",\n",
    "        password = \"sacq6/Ue\",\n",
    "        host = \"127.0.0.1\",\n",
    "        port = \"5432\",\n",
    "        database = \"stock_data_v3\"\n",
    "    )\n",
    "    tesco_dataframe = sqlio.read_sql_query(sql, dbConnection)\n",
    "except (Exception , psycopg2.Error) as dbError :\n",
    "    print (\"Error:\", dbError)\n",
    "finally:\n",
    "    if \"dbConnection\" in locals(): \n",
    "        dbConnection.close()"
   ]
  },
  {
   "cell_type": "code",
   "execution_count": 31,
   "id": "8b7e9040",
   "metadata": {},
   "outputs": [
    {
     "data": {
      "text/plain": [
       "<bound method DataFrame.info of       date_time   close     volume    return\n",
       "0    2018-01-03   76.25   786100.0  0.007532\n",
       "1    2018-01-04   77.62  1225700.0  0.017967\n",
       "2    2018-01-05   79.44  2160100.0  0.023448\n",
       "3    2018-01-08   79.25  1409700.0 -0.002392\n",
       "4    2018-01-09   79.49  1116600.0  0.003028\n",
       "...         ...     ...        ...       ...\n",
       "1073 2022-04-07  230.98  1289300.0  0.026943\n",
       "1074 2022-04-08  236.38   851500.0  0.023379\n",
       "1075 2022-04-11  235.11   756300.0 -0.005373\n",
       "1076 2022-04-12  236.69   817400.0  0.006720\n",
       "1077 2022-04-13  237.38   773300.0  0.002915\n",
       "\n",
       "[1078 rows x 4 columns]>"
      ]
     },
     "execution_count": 31,
     "metadata": {},
     "output_type": "execute_result"
    }
   ],
   "source": [
    "tesco_dataframe.info"
   ]
  },
  {
   "cell_type": "code",
   "execution_count": 32,
   "id": "2d9d1425",
   "metadata": {},
   "outputs": [],
   "source": [
    "final_stock_dataframe=pd.DataFrame(tesco_dataframe)"
   ]
  },
  {
   "cell_type": "code",
   "execution_count": 33,
   "id": "4ba94f94",
   "metadata": {},
   "outputs": [],
   "source": [
    "final_stock_dataframe.set_index(keys='date_time', inplace=True)"
   ]
  },
  {
   "cell_type": "code",
   "execution_count": 34,
   "id": "0d69024f",
   "metadata": {},
   "outputs": [
    {
     "data": {
      "text/plain": [
       "<AxesSubplot:xlabel='date_time'>"
      ]
     },
     "execution_count": 34,
     "metadata": {},
     "output_type": "execute_result"
    },
    {
     "data": {
      "image/png": "[encoded data removed]",
      "text/plain": [
       "<Figure size 864x432 with 1 Axes>"
      ]
     },
     "metadata": {
      "needs_background": "light"
     },
     "output_type": "display_data"
    }
   ],
   "source": [
    "final_stock_dataframe[\"close\"].plot(figsize=(12,6))"
   ]
  },
  {
   "cell_type": "code",
   "execution_count": 35,
   "id": "c33c6c7c",
   "metadata": {},
   "outputs": [
    {
     "data": {
      "text/plain": [
       "<AxesSubplot:ylabel='Frequency'>"
      ]
     },
     "execution_count": 35,
     "metadata": {},
     "output_type": "execute_result"
    },
    {
     "data": {
      "image/png": "[encoded data removed]",
      "text/plain": [
       "<Figure size 432x288 with 1 Axes>"
      ]
     },
     "metadata": {
      "needs_background": "light"
     },
     "output_type": "display_data"
    }
   ],
   "source": [
    "final_stock_dataframe[\"return\"].plot(kind='hist', bins=100)"
   ]
  },
  {
   "cell_type": "code",
   "execution_count": 36,
   "id": "d78f741c",
   "metadata": {},
   "outputs": [
    {
     "data": {
      "text/plain": [
       "<AxesSubplot:xlabel='date_time'>"
      ]
     },
     "execution_count": 36,
     "metadata": {},
     "output_type": "execute_result"
    },
    {
     "data": {
      "image/png": "[encoded data removed]",
      "text/plain": [
       "<Figure size 864x432 with 1 Axes>"
      ]
     },
     "metadata": {
      "needs_background": "light"
     },
     "output_type": "display_data"
    }
   ],
   "source": [
    "final_stock_dataframe[\"return\"]['2022-04-04':'2022-12-04'].plot(kind='bar', figsize=(12,6))"
   ]
  },
  {
   "cell_type": "code",
   "execution_count": 44,
   "id": "1af84de0",
   "metadata": {},
   "outputs": [
    {
     "data": {
      "image/png": "[encoded data removed]",
      "text/plain": [
       "<Figure size 864x432 with 1 Axes>"
      ]
     },
     "metadata": {
      "needs_background": "light"
     },
     "output_type": "display_data"
    }
   ],
   "source": [
    "final_stock_dataframe['volume'].plot(kind='hist', bins=100, figsize=(12,6))\n",
    "plt.ticklabel_format(style='plain')"
   ]
  },
  {
   "cell_type": "code",
   "execution_count": 40,
   "id": "7c4efe3b",
   "metadata": {},
   "outputs": [
    {
     "data": {
      "text/html": [
       "<div>\n",
       "<style scoped>\n",
       "    .dataframe tbody tr th:only-of-type {\n",
       "        vertical-align: middle;\n",
       "    }\n",
       "\n",
       "    .dataframe tbody tr th {\n",
       "        vertical-align: top;\n",
       "    }\n",
       "\n",
       "    .dataframe thead th {\n",
       "        text-align: right;\n",
       "    }\n",
       "</style>\n",
       "<table border=\"1\" class=\"dataframe\">\n",
       "  <thead>\n",
       "    <tr style=\"text-align: right;\">\n",
       "      <th></th>\n",
       "      <th>close</th>\n",
       "      <th>volume</th>\n",
       "      <th>return</th>\n",
       "    </tr>\n",
       "    <tr>\n",
       "      <th>date_time</th>\n",
       "      <th></th>\n",
       "      <th></th>\n",
       "      <th></th>\n",
       "    </tr>\n",
       "  </thead>\n",
       "  <tbody>\n",
       "    <tr>\n",
       "      <th>2018-01-03</th>\n",
       "      <td>76.25</td>\n",
       "      <td>786100.0</td>\n",
       "      <td>0.007532</td>\n",
       "    </tr>\n",
       "    <tr>\n",
       "      <th>2018-01-04</th>\n",
       "      <td>77.62</td>\n",
       "      <td>1225700.0</td>\n",
       "      <td>0.017967</td>\n",
       "    </tr>\n",
       "    <tr>\n",
       "      <th>2018-01-05</th>\n",
       "      <td>79.44</td>\n",
       "      <td>2160100.0</td>\n",
       "      <td>0.023448</td>\n",
       "    </tr>\n",
       "    <tr>\n",
       "      <th>2018-01-08</th>\n",
       "      <td>79.25</td>\n",
       "      <td>1409700.0</td>\n",
       "      <td>-0.002392</td>\n",
       "    </tr>\n",
       "    <tr>\n",
       "      <th>2018-01-09</th>\n",
       "      <td>79.49</td>\n",
       "      <td>1116600.0</td>\n",
       "      <td>0.003028</td>\n",
       "    </tr>\n",
       "  </tbody>\n",
       "</table>\n",
       "</div>"
      ],
      "text/plain": [
       "            close     volume    return\n",
       "date_time                             \n",
       "2018-01-03  76.25   786100.0  0.007532\n",
       "2018-01-04  77.62  1225700.0  0.017967\n",
       "2018-01-05  79.44  2160100.0  0.023448\n",
       "2018-01-08  79.25  1409700.0 -0.002392\n",
       "2018-01-09  79.49  1116600.0  0.003028"
      ]
     },
     "execution_count": 40,
     "metadata": {},
     "output_type": "execute_result"
    }
   ],
   "source": [
    "final_stock_dataframe.head()"
   ]
  },
  {
   "cell_type": "code",
   "execution_count": null,
   "id": "d9802ccb",
   "metadata": {},
   "outputs": [],
   "source": []
  }
 ],
 "metadata": {
  "kernelspec": {
   "display_name": "Python 3 (ipykernel)",
   "language": "python",
   "name": "python3"
  },
  "language_info": {
   "codemirror_mode": {
    "name": "ipython",
    "version": 3
   },
   "file_extension": ".py",
   "mimetype": "text/x-python",
   "name": "python",
   "nbconvert_exporter": "python",
   "pygments_lexer": "ipython3",
   "version": "3.9.7"
  }
 },
 "nbformat": 4,
 "nbformat_minor": 5
}
